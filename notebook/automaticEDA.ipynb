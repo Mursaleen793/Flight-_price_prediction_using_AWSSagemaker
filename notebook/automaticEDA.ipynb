{
 "cells": [
  {
   "cell_type": "markdown",
   "metadata": {},
   "source": [
    "### EDA "
   ]
  },
  {
   "cell_type": "code",
   "execution_count": 2,
   "metadata": {},
   "outputs": [
    {
     "name": "stdout",
     "output_type": "stream",
     "text": [
      "<class 'pandas.core.frame.DataFrame'>\n",
      "RangeIndex: 640 entries, 0 to 639\n",
      "Data columns (total 10 columns):\n",
      " #   Column           Non-Null Count  Dtype  \n",
      "---  ------           --------------  -----  \n",
      " 0   airline          640 non-null    object \n",
      " 1   source           640 non-null    object \n",
      " 2   destination      640 non-null    object \n",
      " 3   dep_time         640 non-null    object \n",
      " 4   arrival_time     640 non-null    object \n",
      " 5   duration         640 non-null    int64  \n",
      " 6   total_stops      640 non-null    float64\n",
      " 7   additional_info  640 non-null    object \n",
      " 8   date_of_Journey  640 non-null    object \n",
      " 9   price            640 non-null    int64  \n",
      "dtypes: float64(1), int64(2), object(7)\n",
      "memory usage: 50.1+ KB\n",
      "None\n",
      "             airline    source destination  dep_time arrival_time  duration  \\\n",
      "0        Jet Airways     Delhi      Cochin  14:35:00     12:35:00      1320   \n",
      "1           Spicejet  Banglore   New Delhi  10:20:00     18:15:00       475   \n",
      "2             Indigo  Banglore   New Delhi  20:00:00     22:55:00       175   \n",
      "3  Multiple Carriers     Delhi      Cochin  04:55:00     19:15:00       860   \n",
      "4            Vistara  Banglore       Delhi  19:30:00     22:15:00       165   \n",
      "\n",
      "   total_stops              additional_info date_of_Journey  price  \n",
      "0          2.0  In-flight meal not included      2019-06-15  10919  \n",
      "1          1.0                      No Info      2019-03-09   7294  \n",
      "2          0.0                      No Info      2019-03-03   6860  \n",
      "3          1.0                      No Info      2019-05-21   7575  \n",
      "4          0.0                      No Info      2019-04-06   5613  \n"
     ]
    }
   ],
   "source": [
    "import pandas as pd\n",
    "\n",
    "path = r\"E:\\flight price prediction using sagemaker\\dataset\\train.csv\"\n",
    "train = pd.read_csv(path)\n",
    "\n",
    "# Display basic information about the DataFrame\n",
    "print(train.info())\n",
    "\n",
    "# Display the first few rows of the DataFrame\n",
    "print(train.head())\n"
   ]
  },
  {
   "cell_type": "code",
   "execution_count": 4,
   "metadata": {},
   "outputs": [
    {
     "name": "stderr",
     "output_type": "stream",
     "text": [
      "c:\\Users\\Hp\\.conda\\envs\\ydata_prof\\Lib\\site-packages\\tqdm\\auto.py:21: TqdmWarning: IProgress not found. Please update jupyter and ipywidgets. See https://ipywidgets.readthedocs.io/en/stable/user_install.html\n",
      "  from .autonotebook import tqdm as notebook_tqdm\n",
      "Summarize dataset:  71%|███████   | 12/17 [00:00<00:00, 13.55it/s, Calculate auto correlation]      c:\\Users\\Hp\\.conda\\envs\\ydata_prof\\Lib\\site-packages\\ydata_profiling\\model\\correlations.py:66: UserWarning: There was an attempt to calculate the auto correlation, but this failed.\n",
      "To hide this warning, disable the calculation\n",
      "(using `df.profile_report(correlations={\"auto\": {\"calculate\": False}})`\n",
      "If this is problematic for your use case, please report this as an issue:\n",
      "https://github.com/ydataai/ydata-profiling/issues\n",
      "(include the error message: 'could not convert string to float: 'In-flight meal not included'')\n",
      "  warnings.warn(\n",
      "Summarize dataset: 100%|██████████| 23/23 [00:02<00:00, 10.13it/s, Completed]                 \n",
      "Generate report structure: 100%|██████████| 1/1 [00:05<00:00,  5.09s/it]\n",
      "Render HTML: 100%|██████████| 1/1 [00:01<00:00,  1.60s/it]\n",
      "Export report to file: 100%|██████████| 1/1 [00:00<00:00, 64.07it/s]\n"
     ]
    }
   ],
   "source": [
    "from ydata_profiling import ProfileReport\n",
    "report = ProfileReport(train)\n",
    "report.to_file(\"output.html\")"
   ]
  },
  {
   "cell_type": "code",
   "execution_count": null,
   "metadata": {},
   "outputs": [],
   "source": []
  }
 ],
 "metadata": {
  "kernelspec": {
   "display_name": "YDATA_PROF",
   "language": "python",
   "name": "python3"
  },
  "language_info": {
   "codemirror_mode": {
    "name": "ipython",
    "version": 3
   },
   "file_extension": ".py",
   "mimetype": "text/x-python",
   "name": "python",
   "nbconvert_exporter": "python",
   "pygments_lexer": "ipython3",
   "version": "3.12.3"
  }
 },
 "nbformat": 4,
 "nbformat_minor": 2
}
